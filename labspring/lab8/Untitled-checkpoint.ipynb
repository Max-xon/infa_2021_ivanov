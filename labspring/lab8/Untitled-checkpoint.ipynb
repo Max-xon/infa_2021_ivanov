{
 "cells": [
  {
   "cell_type": "code",
   "execution_count": 4,
   "id": "6ef94a8c",
   "metadata": {},
   "outputs": [
    {
     "data": {
      "text/plain": [
       "['00.csv.txt',\n",
       " '01.csv.txt',\n",
       " '02.csv.txt',\n",
       " '03.csv.txt',\n",
       " '04.csv.txt',\n",
       " '05.csv.txt',\n",
       " '06.csv.txt',\n",
       " '07.csv.txt',\n",
       " '08.csv.txt',\n",
       " '09.csv.txt',\n",
       " '10.csv.txt',\n",
       " '11.csv.txt',\n",
       " '12.csv.txt',\n",
       " '13.csv.txt',\n",
       " '14.csv.txt',\n",
       " '15.csv.txt',\n",
       " '16.csv.txt',\n",
       " '17.csv.txt',\n",
       " '18.csv.txt',\n",
       " '19.csv.txt',\n",
       " '20.csv.txt',\n",
       " '21.csv.txt',\n",
       " '22.csv.txt',\n",
       " '23.csv.txt',\n",
       " 'backscreen1.png',\n",
       " 'backscreen2.jpeg',\n",
       " 'backscreen3.jpeg',\n",
       " 'cat.png',\n",
       " 'eated.png',\n",
       " 'food.png',\n",
       " 'food2.png',\n",
       " 'food3.png',\n",
       " 'food6.png',\n",
       " 'hungry.png',\n",
       " 'hungry_cat.png',\n",
       " 'kot-est2_holodilnik.png',\n",
       " 'life.png',\n",
       " 'pic.png',\n",
       " 'polyarnui.jpg',\n",
       " 'smth.png']"
      ]
     },
     "execution_count": 4,
     "metadata": {},
     "output_type": "execute_result"
    }
   ],
   "source": [
    "import os\n",
    "\n",
    "getway='C:\\\\Users\\\\maxim\\\\infa_2021_ivanov\\\\functions\\\\lab8\\\\18'\n",
    "adress = os.listdir(getway)\n",
    "\n",
    "for file in adress:\n",
    "    way, file_type = os.path.splitext(file)\n",
    "    if file_type == '':\n",
    "        old_name = []\n",
    "        old_name = file[:2]\n",
    "        new_name = old_name+'.csv'\n",
    "        full_old = os.path.join(getway, file)\n",
    "        full_new = os.path.join(getway, new_name)\n",
    "        os.rename(full_old, full_new)\n",
    "os.listdir('C:\\\\Users\\\\maxim\\\\infa_2021_ivanov\\\\functions\\\\lab8\\\\18')"
   ]
  },
  {
   "cell_type": "code",
   "execution_count": 13,
   "id": "5d16ccf1",
   "metadata": {},
   "outputs": [],
   "source": [
    "import os\n",
    "\n",
    "path = 'C:\\\\Users\\\\maxim\\\\infa_2021_ivanov\\\\lab8'\n",
    "folders = []\n",
    "\n",
    "for item in os.walk(path):\n",
    "    way, folders, files = item\n",
    "    if folders == [] and files == []:\n",
    "        print(os.path.dirname(way))\n",
    "        print(os.path.basename(way))"
   ]
  },
  {
   "cell_type": "code",
   "execution_count": null,
   "id": "9c8ce535",
   "metadata": {},
   "outputs": [],
   "source": []
  }
 ],
 "metadata": {
  "kernelspec": {
   "display_name": "Python 3 (ipykernel)",
   "language": "python",
   "name": "python3"
  },
  "language_info": {
   "codemirror_mode": {
    "name": "ipython",
    "version": 3
   },
   "file_extension": ".py",
   "mimetype": "text/x-python",
   "name": "python",
   "nbconvert_exporter": "python",
   "pygments_lexer": "ipython3",
   "version": "3.9.12"
  }
 },
 "nbformat": 4,
 "nbformat_minor": 5
}
