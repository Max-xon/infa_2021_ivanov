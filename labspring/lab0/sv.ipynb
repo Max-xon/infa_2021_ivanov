{
 "cells": [
  {
   "cell_type": "code",
   "execution_count": 12,
   "id": "a47b80c3",
   "metadata": {},
   "outputs": [
    {
     "name": "stdout",
     "output_type": "stream",
     "text": [
      "     gender race/ethnicity parental level of education         lunch  \\\n",
      "3      male        group A          associate's degree  free/reduced   \n",
      "13     male        group A                some college      standard   \n",
      "14   female        group A             master's degree      standard   \n",
      "25     male        group A             master's degree  free/reduced   \n",
      "46   female        group A          associate's degree      standard   \n",
      "..      ...            ...                         ...           ...   \n",
      "974  female        group A                some college      standard   \n",
      "983  female        group A                some college      standard   \n",
      "985    male        group A                 high school      standard   \n",
      "988  female        group A            some high school  free/reduced   \n",
      "994    male        group A                 high school      standard   \n",
      "\n",
      "    test preparation course  math score  reading score  writing score  \n",
      "3                      none          47             57             44  \n",
      "13                completed          78             72             70  \n",
      "14                     none          50             53             58  \n",
      "25                     none          73             74             72  \n",
      "46                completed          55             65             62  \n",
      "..                      ...         ...            ...            ...  \n",
      "974                    none          54             63             67  \n",
      "983               completed          78             87             91  \n",
      "985                    none          57             51             54  \n",
      "988                    none          44             45             45  \n",
      "994                    none          63             63             62  \n",
      "\n",
      "[89 rows x 8 columns]\n"
     ]
    },
    {
     "data": {
      "image/png": "[encoded data removed]",
      "text/plain": [
       "<Figure size 432x288 with 1 Axes>"
      ]
     },
     "metadata": {
      "needs_background": "light"
     },
     "output_type": "display_data"
    },
    {
     "data": {
      "image/png": "[encoded data removed]",
      "text/plain": [
       "<Figure size 432x288 with 1 Axes>"
      ]
     },
     "metadata": {
      "needs_background": "light"
     },
     "output_type": "display_data"
    }
   ],
   "source": [
    "import pandas as pd\n",
    "import matplotlib.pyplot as plt\n",
    "students = pd.read_csv('StudentsPerformance.csv')\n",
    "students\n",
    "race_ethnicity = ['group A', 'group B', \n",
    "                             'group C', 'group D', 'group E']\n",
    "gender=[\"female\", \"male\"]\n",
    "a = students[students[\"race/ethnicity\"] == \"group A\"] \n",
    "b = students[students[\"race/ethnicity\"] == \"group B\"]\n",
    "c = students[students[\"race/ethnicity\"] == \"group C\"] \n",
    "d = students[students[\"race/ethnicity\"] == \"group D\"]\n",
    "e = students[students[\"race/ethnicity\"] == \"group E\"] \n",
    "\n",
    "for i in range (len(gender)):\n",
    "    a1 = a[a[\"gender\"] == gender[i]]\n",
    "    b1 = b[b[\"gender\"] == gender[i]]\n",
    "    c1 = c[c[\"gender\"] == gender[i]]\n",
    "    d1 = d[d[\"gender\"] == gender[i]]\n",
    "    e1 = e[e[\"gender\"] == gender[i]]\n",
    "    plt.boxplot((a1[\"math score\"], b1[\"math score\"], c1[\"math score\"], d1[\"math score\"], e1[\"math score\"]), labels=race_ethnicity)\n",
    "    plt.title('Race/ethnicity,\\n'+gender[i])\n",
    "    plt.ylabel(gender[i])\n",
    "    plt.show()\n",
    "\n",
    "plt.show()\n"
   ]
  },
  {
   "cell_type": "code",
   "execution_count": 32,
   "id": "9919ddef",
   "metadata": {},
   "outputs": [
    {
     "name": "stderr",
     "output_type": "stream",
     "text": [
      "/tmp/ipykernel_5162/3633485757.py:18: SettingWithCopyWarning: \n",
      "A value is trying to be set on a copy of a slice from a DataFrame.\n",
      "Try using .loc[row_indexer,col_indexer] = value instead\n",
      "\n",
      "See the caveats in the documentation: https://pandas.pydata.org/pandas-docs/stable/user_guide/indexing.html#returning-a-view-versus-a-copy\n",
      "  dfnew['norm'] =  dfnew['Value (mAU)'] - mm\n"
     ]
    },
    {
     "ename": "UnboundLocalError",
     "evalue": "local variable 'dfdes' referenced before assignment",
     "output_type": "error",
     "traceback": [
      "\u001b[0;31m---------------------------------------------------------------------------\u001b[0m",
      "\u001b[0;31mUnboundLocalError\u001b[0m                         Traceback (most recent call last)",
      "\u001b[0;32m/tmp/ipykernel_5162/1704747439.py\u001b[0m in \u001b[0;36m<module>\u001b[0;34m\u001b[0m\n\u001b[1;32m     15\u001b[0m \u001b[0mdfdes\u001b[0m \u001b[0;34m=\u001b[0m \u001b[0mpd\u001b[0m\u001b[0;34m.\u001b[0m\u001b[0mDataFrame\u001b[0m\u001b[0;34m(\u001b[0m\u001b[0;34m)\u001b[0m\u001b[0;34m\u001b[0m\u001b[0;34m\u001b[0m\u001b[0m\n\u001b[1;32m     16\u001b[0m \u001b[0;32mfor\u001b[0m \u001b[0mfile\u001b[0m \u001b[0;32min\u001b[0m \u001b[0ma\u001b[0m\u001b[0;34m:\u001b[0m\u001b[0;34m\u001b[0m\u001b[0;34m\u001b[0m\u001b[0m\n\u001b[0;32m---> 17\u001b[0;31m     \u001b[0mf\u001b[0m\u001b[0;34m(\u001b[0m\u001b[0mfile\u001b[0m\u001b[0;34m)\u001b[0m\u001b[0;34m\u001b[0m\u001b[0;34m\u001b[0m\u001b[0m\n\u001b[0m\u001b[1;32m     18\u001b[0m \u001b[0;34m\u001b[0m\u001b[0m\n\u001b[1;32m     19\u001b[0m \u001b[0;32mdef\u001b[0m \u001b[0mf\u001b[0m\u001b[0;34m(\u001b[0m\u001b[0mfile\u001b[0m\u001b[0;34m)\u001b[0m\u001b[0;34m:\u001b[0m\u001b[0;34m\u001b[0m\u001b[0;34m\u001b[0m\u001b[0m\n",
      "\u001b[0;32m/tmp/ipykernel_5162/3633485757.py\u001b[0m in \u001b[0;36mf\u001b[0;34m(file)\u001b[0m\n\u001b[1;32m     18\u001b[0m     \u001b[0mdfnew\u001b[0m\u001b[0;34m[\u001b[0m\u001b[0;34m'norm'\u001b[0m\u001b[0;34m]\u001b[0m \u001b[0;34m=\u001b[0m  \u001b[0mdfnew\u001b[0m\u001b[0;34m[\u001b[0m\u001b[0;34m'Value (mAU)'\u001b[0m\u001b[0;34m]\u001b[0m \u001b[0;34m-\u001b[0m \u001b[0mmm\u001b[0m\u001b[0;34m\u001b[0m\u001b[0;34m\u001b[0m\u001b[0m\n\u001b[1;32m     19\u001b[0m     \u001b[0;32mif\u001b[0m \u001b[0;34m'des'\u001b[0m \u001b[0;32min\u001b[0m \u001b[0mfile\u001b[0m\u001b[0;34m:\u001b[0m\u001b[0;34m\u001b[0m\u001b[0;34m\u001b[0m\u001b[0m\n\u001b[0;32m---> 20\u001b[0;31m         \u001b[0mdfdes\u001b[0m\u001b[0;34m=\u001b[0m \u001b[0mdfdes\u001b[0m \u001b[0;34m+\u001b[0m \u001b[0;34m[\u001b[0m\u001b[0;34m(\u001b[0m\u001b[0mdfnew\u001b[0m\u001b[0;34m[\u001b[0m\u001b[0;34m'norm'\u001b[0m\u001b[0;34m]\u001b[0m\u001b[0;34m)\u001b[0m\u001b[0;34m]\u001b[0m\u001b[0;34m\u001b[0m\u001b[0;34m\u001b[0m\u001b[0m\n\u001b[0m\u001b[1;32m     21\u001b[0m \u001b[0;34m\u001b[0m\u001b[0m\n\u001b[1;32m     22\u001b[0m     \u001b[0mprint\u001b[0m\u001b[0;34m(\u001b[0m\u001b[0mdfdes\u001b[0m\u001b[0;34m)\u001b[0m\u001b[0;34m\u001b[0m\u001b[0;34m\u001b[0m\u001b[0m\n",
      "\u001b[0;31mUnboundLocalError\u001b[0m: local variable 'dfdes' referenced before assignment"
     ]
    }
   ],
   "source": [
    "import pandas as pd\n",
    "import os\n",
    "\n",
    "getway = '/home-local/student/Desktop/st'\n",
    "dirr = os.listdir(getway)\n",
    "a = []\n",
    "\n",
    "for file in dirr:\n",
    "    way, file_type = os.path.splitext(file)\n",
    "    if file_type == '.txt':\n",
    "        a.append(file)\n",
    "   \n",
    "\n",
    "        \n",
    "dfdes = pd.DataFrame()\n",
    "for file in a:\n",
    "    f(file)\n",
    "\n",
    "def f(file):\n",
    "    df = pd.read_csv(file, sep = '\\t', skiprows= 42)\n",
    "    del df['Step (s)']\n",
    "    dfnew = df[(df['Time (min)'] >=4) & (df['Time (min)'] <=7)]\n",
    "    mm = min(dfnew['Value (mAU)'])\n",
    "    dfnew['norm'] =  dfnew['Value (mAU)'] - mm\n",
    "    global dfdes\n",
    "    if 'des' in file:\n",
    "        dfdes+= dfnew['norm']\n",
    "        \n",
    "    print(dfdes)\n",
    "\n",
    "    print(dfnew)"
   ]
  },
  {
   "cell_type": "code",
   "execution_count": null,
   "id": "4dda6bcc",
   "metadata": {},
   "outputs": [],
   "source": []
  }
 ],
 "metadata": {
  "kernelspec": {
   "display_name": "Python 3 (ipykernel)",
   "language": "python",
   "name": "python3"
  },
  "language_info": {
   "codemirror_mode": {
    "name": "ipython",
    "version": 3
   },
   "file_extension": ".py",
   "mimetype": "text/x-python",
   "name": "python",
   "nbconvert_exporter": "python",
   "pygments_lexer": "ipython3",
   "version": "3.8.11"
  }
 },
 "nbformat": 4,
 "nbformat_minor": 5
}
